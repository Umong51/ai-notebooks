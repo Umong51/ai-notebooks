{
 "cells": [
  {
   "cell_type": "code",
   "execution_count": 1,
   "id": "6368b64f",
   "metadata": {
    "_cell_guid": "b1076dfc-b9ad-4769-8c92-a6c4dae69d19",
    "_uuid": "8f2839f25d086af736a60e9eeb907d3b93b6e0e5",
    "execution": {
     "iopub.execute_input": "2025-03-12T00:05:08.557317Z",
     "iopub.status.busy": "2025-03-12T00:05:08.557003Z",
     "iopub.status.idle": "2025-03-12T00:05:11.907194Z",
     "shell.execute_reply": "2025-03-12T00:05:11.906495Z"
    },
    "papermill": {
     "duration": 3.355254,
     "end_time": "2025-03-12T00:05:11.908799",
     "exception": false,
     "start_time": "2025-03-12T00:05:08.553545",
     "status": "completed"
    },
    "tags": []
   },
   "outputs": [],
   "source": [
    "import torch\n",
    "import torch.nn as nn\n",
    "import torch.optim as optim\n",
    "import numpy as np\n",
    "import matplotlib.pyplot as plt\n",
    "from rich.progress import Progress, BarColumn, TimeRemainingColumn"
   ]
  },
  {
   "cell_type": "code",
   "execution_count": 2,
   "id": "52dae50f",
   "metadata": {
    "execution": {
     "iopub.execute_input": "2025-03-12T00:05:11.914331Z",
     "iopub.status.busy": "2025-03-12T00:05:11.913790Z",
     "iopub.status.idle": "2025-03-12T00:05:12.366852Z",
     "shell.execute_reply": "2025-03-12T00:05:12.366180Z"
    },
    "papermill": {
     "duration": 0.457199,
     "end_time": "2025-03-12T00:05:12.368428",
     "exception": false,
     "start_time": "2025-03-12T00:05:11.911229",
     "status": "completed"
    },
    "tags": []
   },
   "outputs": [
    {
     "name": "stdout",
     "output_type": "stream",
     "text": [
      "Using device: cuda\n"
     ]
    }
   ],
   "source": [
    "torch.manual_seed(42)\n",
    "np.random.seed(42)\n",
    "\n",
    "device = torch.device(\"cuda\" if torch.cuda.is_available() else \"cpu\")\n",
    "print(f\"Using device: {device}\")\n",
    "\n",
    "N = 10_000\n",
    "D = 2\n",
    "\n",
    "x = torch.linspace(-2, 2, 100)\n",
    "x1, x2 = torch.meshgrid(x, x, indexing='ij')\n",
    "x1 = x1.flatten()\n",
    "x2 = x2.flatten()\n",
    "X = torch.stack([x1, x2], dim=1).to(device)\n",
    "true_w = torch.tensor([2.0, -1.0], device=device)\n",
    "true_b = 1.0\n",
    "probs = torch.sigmoid(X @ true_w + true_b)\n",
    "y = torch.bernoulli(probs)"
   ]
  },
  {
   "cell_type": "code",
   "execution_count": 3,
   "id": "1e8fab64",
   "metadata": {
    "execution": {
     "iopub.execute_input": "2025-03-12T00:05:12.373623Z",
     "iopub.status.busy": "2025-03-12T00:05:12.373370Z",
     "iopub.status.idle": "2025-03-12T00:05:12.379678Z",
     "shell.execute_reply": "2025-03-12T00:05:12.379084Z"
    },
    "papermill": {
     "duration": 0.010168,
     "end_time": "2025-03-12T00:05:12.380805",
     "exception": false,
     "start_time": "2025-03-12T00:05:12.370637",
     "status": "completed"
    },
    "tags": []
   },
   "outputs": [],
   "source": [
    "class BayesianLogisticRegression(nn.Module):\n",
    "    def __init__(self, input_dim):\n",
    "        super().__init__()\n",
    "        self.w = nn.Parameter(torch.randn(input_dim, device=device) * 0.1)\n",
    "        self.b = nn.Parameter(torch.randn(1, device=device) * 0.1)\n",
    "\n",
    "    def forward(self, x):\n",
    "        return torch.sigmoid(x @ self.w + self.b)\n",
    "\n",
    "class SGLD(optim.Optimizer):\n",
    "    def __init__(self, params, lr=1e-2, weight_decay=1e-4):\n",
    "        defaults = dict(lr=lr, weight_decay=weight_decay)\n",
    "        super(SGLD, self).__init__(params, defaults)\n",
    "\n",
    "    @torch.no_grad()\n",
    "    def step(self, dataset_size):\n",
    "        for group in self.param_groups:\n",
    "            for p in group['params']:\n",
    "                if p.grad is None:\n",
    "                    continue\n",
    "                scale = dataset_size / p.grad.shape[0]\n",
    "                grad = scale * p.grad + group['weight_decay'] * p\n",
    "                p.add_(grad, alpha=-group['lr'])\n",
    "                noise = torch.randn_like(p, device=p.device) * (2 * group['lr']) ** 0.5\n",
    "                p.add_(noise)"
   ]
  },
  {
   "cell_type": "code",
   "execution_count": 4,
   "id": "9c510ec8",
   "metadata": {
    "execution": {
     "iopub.execute_input": "2025-03-12T00:05:12.384943Z",
     "iopub.status.busy": "2025-03-12T00:05:12.384731Z",
     "iopub.status.idle": "2025-03-12T00:05:16.208794Z",
     "shell.execute_reply": "2025-03-12T00:05:16.207842Z"
    },
    "papermill": {
     "duration": 3.827987,
     "end_time": "2025-03-12T00:05:16.210542",
     "exception": false,
     "start_time": "2025-03-12T00:05:12.382555",
     "status": "completed"
    },
    "tags": []
   },
   "outputs": [],
   "source": [
    "num_epochs = 2000\n",
    "batch_size = 256\n",
    "lr = 1e-4\n",
    "burn_in = 1000\n",
    "\n",
    "model = BayesianLogisticRegression(D).to(device)\n",
    "optimizer = SGLD(model.parameters(), lr=lr)"
   ]
  },
  {
   "cell_type": "code",
   "execution_count": 5,
   "id": "acb5da53",
   "metadata": {
    "execution": {
     "iopub.execute_input": "2025-03-12T00:05:16.215843Z",
     "iopub.status.busy": "2025-03-12T00:05:16.215440Z",
     "iopub.status.idle": "2025-03-12T00:06:30.650549Z",
     "shell.execute_reply": "2025-03-12T00:06:30.649828Z"
    },
    "papermill": {
     "duration": 74.440439,
     "end_time": "2025-03-12T00:06:30.653133",
     "exception": false,
     "start_time": "2025-03-12T00:05:16.212694",
     "status": "completed"
    },
    "tags": []
   },
   "outputs": [
    {
     "data": {
      "application/vnd.jupyter.widget-view+json": {
       "model_id": "6387adce28de4a7787e61e27ea42a65b",
       "version_major": 2,
       "version_minor": 0
      },
      "text/plain": [
       "Output()"
      ]
     },
     "metadata": {},
     "output_type": "display_data"
    },
    {
     "data": {
      "text/html": [
       "<pre style=\"white-space:pre;overflow-x:auto;line-height:normal;font-family:Menlo,'DejaVu Sans Mono',consolas,'Courier New',monospace\"></pre>\n"
      ],
      "text/plain": []
     },
     "metadata": {},
     "output_type": "display_data"
    }
   ],
   "source": [
    "posterior_samples = []\n",
    "\n",
    "with Progress(\n",
    "    \"[progress.description]{task.description}\",\n",
    "    BarColumn(),\n",
    "    \"[progress.percentage]{task.percentage:>3.0f}%\",\n",
    "    \"[bold blue]Loss: {task.fields[loss]:.6f}\",\n",
    "    TimeRemainingColumn(),\n",
    ") as progress:\n",
    "    task = progress.add_task(\"Training...\", total=num_epochs, loss=0.0)\n",
    "\n",
    "    for epoch in range(num_epochs):\n",
    "        indices = torch.randperm(N, device=device)\n",
    "        epoch_loss = 0.0\n",
    "        batch_count = 0\n",
    "\n",
    "        for i in range(0, N, batch_size):\n",
    "            batch_indices = indices[i:i + batch_size]\n",
    "            X_batch, y_batch = X[batch_indices], y[batch_indices]\n",
    "            y_pred = model(X_batch)\n",
    "            loss = nn.BCELoss()(y_pred, y_batch)\n",
    "            epoch_loss += loss.item()\n",
    "            batch_count += 1\n",
    "            optimizer.zero_grad()\n",
    "            loss.backward()\n",
    "            optimizer.step(dataset_size=N)\n",
    "        \n",
    "        if epoch >= burn_in and epoch % 5 == 0:\n",
    "            posterior_samples.append(torch.cat([\n",
    "                model.w.clone().detach(),\n",
    "                model.b.clone().detach(),\n",
    "            ]))\n",
    "\n",
    "        progress.update(task, advance=1, loss=epoch_loss / batch_count)\n",
    "\n",
    "posterior_samples = torch.stack(posterior_samples).cpu().numpy()"
   ]
  },
  {
   "cell_type": "code",
   "execution_count": 6,
   "id": "34599c7d",
   "metadata": {
    "execution": {
     "iopub.execute_input": "2025-03-12T00:06:32.285215Z",
     "iopub.status.busy": "2025-03-12T00:06:32.284980Z",
     "iopub.status.idle": "2025-03-12T00:06:33.402088Z",
     "shell.execute_reply": "2025-03-12T00:06:33.401134Z"
    },
    "papermill": {
     "duration": 2.747302,
     "end_time": "2025-03-12T00:06:33.403702",
     "exception": false,
     "start_time": "2025-03-12T00:06:30.656400",
     "status": "completed"
    },
    "tags": []
   },
   "outputs": [
    {
     "data": {
      "image/png": "[encoded data removed]",
      "text/plain": [
       "<Figure size 1500x500 with 3 Axes>"
      ]
     },
     "metadata": {},
     "output_type": "display_data"
    }
   ],
   "source": [
    "fig, axes = plt.subplots(1, 3, figsize=(15, 5))\n",
    "for i in range(D):\n",
    "    axes[i].hist(posterior_samples[:, i], bins=30, alpha=0.7, color='blue')\n",
    "    axes[i].axvline(true_w[i].cpu().item(), color='red', linestyle='dashed', linewidth=2)\n",
    "    axes[i].set_title(f\"Posterior of w[{i}]\")\n",
    "    axes[i].set_xlabel(\"Weight Value\")\n",
    "    axes[i].set_ylabel(\"Frequency\")\n",
    "\n",
    "axes[2].hist(posterior_samples[:, D], bins=30, alpha=0.7, color='green')\n",
    "axes[2].axvline(model.b.cpu().item(), color='red', linestyle='dashed', linewidth=2)\n",
    "axes[2].set_title(\"Posterior of Bias (b)\")\n",
    "axes[2].set_xlabel(\"Bias Value\")\n",
    "axes[2].set_ylabel(\"Frequency\")\n",
    "\n",
    "plt.tight_layout()\n",
    "plt.savefig('bayesian_posterior_with_bias.png')\n",
    "plt.show()"
   ]
  }
 ],
 "metadata": {
  "kaggle": {
   "accelerator": "gpu",
   "dataSources": [],
   "dockerImageVersionId": 30919,
   "isGpuEnabled": true,
   "isInternetEnabled": true,
   "language": "python",
   "sourceType": "notebook"
  },
  "kernelspec": {
   "display_name": "Python 3",
   "language": "python",
   "name": "python3"
  },
  "language_info": {
   "codemirror_mode": {
    "name": "ipython",
    "version": 3
   },
   "file_extension": ".py",
   "mimetype": "text/x-python",
   "name": "python",
   "nbconvert_exporter": "python",
   "pygments_lexer": "ipython3",
   "version": "3.10.12"
  },
  "papermill": {
   "default_parameters": {},
   "duration": 89.008203,
   "end_time": "2025-03-12T00:06:34.928801",
   "environment_variables": {},
   "exception": null,
   "input_path": "__notebook__.ipynb",
   "output_path": "__notebook__.ipynb",
   "parameters": {},
   "start_time": "2025-03-12T00:05:05.920598",
   "version": "2.6.0"
  },
  "widgets": {
   "application/vnd.jupyter.widget-state+json": {
    "state": {
     "02fe7356c6e241b3a6cb11e3b84c4406": {
      "model_module": "@jupyter-widgets/base",
      "model_module_version": "2.0.0",
      "model_name": "LayoutModel",
      "state": {
       "_model_module": "@jupyter-widgets/base",
       "_model_module_version": "2.0.0",
       "_model_name": "LayoutModel",
       "_view_count": null,
       "_view_module": "@jupyter-widgets/base",
       "_view_module_version": "2.0.0",
       "_view_name": "LayoutView",
       "align_content": null,
       "align_items": null,
       "align_self": null,
       "border_bottom": null,
       "border_left": null,
       "border_right": null,
       "border_top": null,
       "bottom": null,
       "display": null,
       "flex": null,
       "flex_flow": null,
       "grid_area": null,
       "grid_auto_columns": null,
       "grid_auto_flow": null,
       "grid_auto_rows": null,
       "grid_column": null,
       "grid_gap": null,
       "grid_row": null,
       "grid_template_areas": null,
       "grid_template_columns": null,
       "grid_template_rows": null,
       "height": null,
       "justify_content": null,
       "justify_items": null,
       "left": null,
       "margin": null,
       "max_height": null,
       "max_width": null,
       "min_height": null,
       "min_width": null,
       "object_fit": null,
       "object_position": null,
       "order": null,
       "overflow": null,
       "padding": null,
       "right": null,
       "top": null,
       "visibility": null,
       "width": null
      }
     },
     "6387adce28de4a7787e61e27ea42a65b": {
      "model_module": "@jupyter-widgets/output",
      "model_module_version": "1.0.0",
      "model_name": "OutputModel",
      "state": {
       "_dom_classes": [],
       "_model_module": "@jupyter-widgets/output",
       "_model_module_version": "1.0.0",
       "_model_name": "OutputModel",
       "_view_count": null,
       "_view_module": "@jupyter-widgets/output",
       "_view_module_version": "1.0.0",
       "_view_name": "OutputView",
       "layout": "IPY_MODEL_02fe7356c6e241b3a6cb11e3b84c4406",
       "msg_id": "",
       "outputs": [
        {
         "data": {
          "text/html": "<pre style=\"white-space:pre;overflow-x:auto;line-height:normal;font-family:Menlo,'DejaVu Sans Mono',consolas,'Courier New',monospace\">Training... <span style=\"color: #f92672; text-decoration-color: #f92672\">━━━━━━━━━━━━━━━━━━━━━━━━━━━━━━━━━━━━━━━╸</span> <span style=\"color: #800080; text-decoration-color: #800080\">100%</span> <span style=\"color: #000080; text-decoration-color: #000080; font-weight: bold\">Loss: 0.359195</span> <span style=\"color: #008080; text-decoration-color: #008080\">0:00:01</span>\n</pre>\n",
          "text/plain": "Training... \u001b[38;2;249;38;114m━━━━━━━━━━━━━━━━━━━━━━━━━━━━━━━━━━━━━━━\u001b[0m\u001b[38;2;249;38;114m╸\u001b[0m \u001b[35m100%\u001b[0m \u001b[1;34mLoss: 0.359195\u001b[0m \u001b[36m0:00:01\u001b[0m\n"
         },
         "metadata": {},
         "output_type": "display_data"
        }
       ],
       "tabbable": null,
       "tooltip": null
      }
     }
    },
    "version_major": 2,
    "version_minor": 0
   }
  }
 },
 "nbformat": 4,
 "nbformat_minor": 5
}
